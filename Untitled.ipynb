{
 "cells": [
  {
   "cell_type": "code",
   "execution_count": 1,
   "id": "hungarian-mother",
   "metadata": {},
   "outputs": [],
   "source": [
    "from NuestroASF import ASFile\n",
    "from NuestroRegistro import registro"
   ]
  },
  {
   "cell_type": "code",
   "execution_count": 3,
   "id": "reported-conviction",
   "metadata": {},
   "outputs": [
    {
     "name": "stdout",
     "output_type": "stream",
     "text": [
      "    Anotacion 10  10  10.1  10.0  10.0.1\n",
      "0   Anotacion 23  23    23  23.0    23.0\n",
      "1   Anotacion 13  13    13  13.0    13.0\n",
      "2   Anotacion 22  22    22  22.0    22.0\n",
      "3   Anotacion 25  25    25  25.0    25.0\n",
      "4   Anotacion 17  17    17  17.0    17.0\n",
      "5   Anotacion 28  28    28  28.0    28.0\n",
      "6   Anotacion 21  21    21  21.0    21.0\n",
      "7   Anotacion 24  24    24  24.0    24.0\n",
      "8    Anotacion 8   8     8   8.0     8.0\n",
      "9   Anotacion 30  30    30  30.0    30.0\n",
      "10   Anotacion 4   4     4   4.0     4.0\n",
      "11  Anotacion 15  15    15  15.0    15.0\n",
      "12   Anotacion 5   5     5   5.0     5.0\n",
      "13  Anotacion 19  19    19  19.0    19.0\n",
      "14  Anotacion 14  14    14  14.0    14.0\n",
      "15  Anotacion 29  29    29  29.0    29.0\n",
      "16   Anotacion 1   1     1   1.0     1.0\n",
      "17  Anotacion 18  18    18  18.0    18.0\n",
      "18   Anotacion 2   2     2   2.0     2.0\n",
      "19  Anotacion 27  27    27  27.0    27.0\n",
      "20   Anotacion 6   6     6   6.0     6.0\n",
      "21  Anotacion 26  26    26  26.0    26.0\n",
      "22  Anotacion 11  11    11  11.0    11.0\n",
      "23   Anotacion 3   3     3   3.0     3.0\n",
      "24  Anotacion 16  16    16  16.0    16.0\n",
      "25  Anotacion 20  20    20  20.0    20.0\n",
      "26   Anotacion 7   7     7   7.0     7.0\n",
      "27  Anotacion 12  12    12  12.0    12.0\n",
      "28   Anotacion 9   9     9   9.0     9.0\n"
     ]
    }
   ],
   "source": [
    "asf = ASFile()\n",
    "asf.open(\"data/insertar.csv\")"
   ]
  },
  {
   "cell_type": "code",
   "execution_count": null,
   "id": "elect-auction",
   "metadata": {},
   "outputs": [],
   "source": []
  }
 ],
 "metadata": {
  "kernelspec": {
   "display_name": "Python 3",
   "language": "python",
   "name": "python3"
  },
  "language_info": {
   "codemirror_mode": {
    "name": "ipython",
    "version": 3
   },
   "file_extension": ".py",
   "mimetype": "text/x-python",
   "name": "python",
   "nbconvert_exporter": "python",
   "pygments_lexer": "ipython3",
   "version": "3.8.7"
  }
 },
 "nbformat": 4,
 "nbformat_minor": 5
}
